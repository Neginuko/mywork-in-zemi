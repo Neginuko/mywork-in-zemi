{
 "cells": [
  {
   "cell_type": "code",
   "execution_count": 2,
   "metadata": {},
   "outputs": [
    {
     "name": "stdout",
     "output_type": "stream",
     "text": [
      "Note: you may need to restart the kernel to use updated packages.\n",
      "Note: you may need to restart the kernel to use updated packages.\n"
     ]
    }
   ],
   "source": [
    "%pip install --upgrade -q pip jax jaxlib\n",
    "%pip install --upgrade -q git+https://github.com/google/flax.git"
   ]
  },
  {
   "cell_type": "code",
   "execution_count": 3,
   "metadata": {},
   "outputs": [],
   "source": [
    "import jax\n",
    "from typing import Any, Callable, Sequence\n",
    "from jax import random, numpy as jnp\n",
    "import flax\n",
    "from flax import linen as nn"
   ]
  },
  {
   "cell_type": "markdown",
   "metadata": {},
   "source": [
    "## 全結合層\n",
    "\n",
    "- **Implementation by Flax** : `flax.linen.Dense`\n",
    "- 「Fead Forward層」、「Prediction層」などと別の名称で呼称されることが多い\n",
    "\n",
    "### `base`\n",
    "\n",
    "- 1次元入力に対する全結合層\n",
    "- $ p[j] = \\sum^i n[i] \\times w[i, j] + b[j] $\n",
    "  - $ p $ : 出力\n",
    "  - $ n $ : 入力\n",
    "  - $ w $ : 重みパラメータ(入力次元×出力次元)\n",
    "  - $ b $ : バイアスパラメータ(出力次元)"
   ]
  },
  {
   "cell_type": "code",
   "execution_count": 4,
   "metadata": {},
   "outputs": [],
   "source": [
    "class Base(nn.Module):\n",
    "    features: int\n",
    "    bias_init: Callable = nn.initializers.zeros_init()\n",
    "    weight_init: Callable = nn.initializers.normal()\n",
    "\n",
    "    @nn.compact\n",
    "    def __call__(self, inputs: jax.typing.ArrayLike):\n",
    "        x = inputs\n",
    "        weight = self.param('weight',\n",
    "                            self.weight_init,\n",
    "                            (inputs.shape[-1], self.features))\n",
    "        y = jnp.dot(x, weight)\n",
    "        bias = self.param('bias', self.bias_init, (self.features,))\n",
    "        y = y + bias\n",
    "        return y"
   ]
  },
  {
   "cell_type": "markdown",
   "metadata": {},
   "source": [
    "### `Conv1D`\n",
    "\n",
    "- ２次元ベクトルデータへの畳み込み層\n",
    "- カーネルサイズが1であるため、全結合層と同様に求めることができる\n",
    "- $ p[j] = \\sum^i n[i] \\times w[i, j] + b[j] $\n",
    "  - $ p $ : 出力\n",
    "  - $ n $ : 入力\n",
    "  - $ w $ : 重みパラメータ(入力次元×出力次元)\n",
    "  - $ b $ : バイアスパラメータ(出力次元)"
   ]
  },
  {
   "cell_type": "code",
   "execution_count": 10,
   "metadata": {},
   "outputs": [],
   "source": [
    "class Conv1D(nn.Module):\n",
    "    features: int\n",
    "    bias_init: Callable = nn.initializers.zeros_init()\n",
    "    weight_init: Callable = nn.initializers.normal()\n",
    "\n",
    "    @nn.compact\n",
    "    def __call__(self, inputs: jax.typing.ArrayLike):\n",
    "        x = inputs\n",
    "        weight = self.param('weight',\n",
    "                            self.weight_init,\n",
    "                            (1, x.shape[-1], self.features))\n",
    "        batch_size = x.shape[0]\n",
    "        x_channel = x.shape[-1]\n",
    "\n",
    "        # カーネルサイズに畳み込み\n",
    "        x = jnp.reshape(x, (-1, batch_size))\n",
    "        weight = jnp.reshape(weight, (-1, x_channel))\n",
    "\n",
    "        y = jnp.dot(x, weight)\n",
    "        bias = self.param('bias', self.bias_init, (self.features,))\n",
    "        y = y + bias\n",
    "\n",
    "        # カーネルを展開\n",
    "        y = jnp.reshape(y, (batch_size, x.shape[1], self.features))\n",
    "        return y"
   ]
  },
  {
   "cell_type": "markdown",
   "metadata": {},
   "source": [
    "## Normalization層\n",
    "\n",
    "- **Implementaion by Flax** : `flax.linen.LayerNorm`\n",
    "- $ h_i = f\\left(\\frac{g_i}{\\sigma_i}\\left(a_i-\\mu_i\\right)+b_i \\right) $\n",
    "  - $ \\sigma $ : 二乗誤差の平方根\n",
    "  - $ \\mu $ : 平均値\n",
    "  - $ g $ : 重みパラメータ\n",
    "  - $ b $ : バイアスパラメータ"
   ]
  },
  {
   "cell_type": "code",
   "execution_count": null,
   "metadata": {},
   "outputs": [],
   "source": [
    "class Normalization(nn.Module):\n",
    "    axis: int = -1\n",
    "    epsilon: float = 1e-5\n",
    "    weight_init: Callable = nn.initializers.ones()\n",
    "    bias_init: Callable = nn.initializers.zeros()\n",
    "\n",
    "    @nn.compact\n",
    "    def __call__(self, input):\n",
    "        x = input\n",
    "        # 平均値と二乗誤差\n",
    "        mean = jnp.mean(x, axis=self.axis, keepdims=True)\n",
    "        squared_error = jnp.mean(jnp.square(x-mean), axis=self.axis, keepdims=True)\n",
    "        # 二乗誤差の平方根\n",
    "        y = (x - mean) * jax.lax.rsqrt(squared_error + self.epsilon)\n",
    "        weight = self.param('weight', self.weight_init, (input.shape[-1],))\n",
    "        bias = self.param('bias', self.bias_init, (input.shape[-1]))\n",
    "        y = y * weight + bias\n",
    "        return y"
   ]
  },
  {
   "cell_type": "code",
   "execution_count": null,
   "metadata": {},
   "outputs": [],
   "source": []
  }
 ],
 "metadata": {
  "kernelspec": {
   "display_name": "venv",
   "language": "python",
   "name": "python3"
  },
  "language_info": {
   "codemirror_mode": {
    "name": "ipython",
    "version": 3
   },
   "file_extension": ".py",
   "mimetype": "text/x-python",
   "name": "python",
   "nbconvert_exporter": "python",
   "pygments_lexer": "ipython3",
   "version": "3.11.9"
  }
 },
 "nbformat": 4,
 "nbformat_minor": 2
}
