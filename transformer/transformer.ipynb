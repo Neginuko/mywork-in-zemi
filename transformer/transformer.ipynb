{
 "cells": [
  {
   "cell_type": "code",
   "execution_count": 11,
   "metadata": {},
   "outputs": [
    {
     "name": "stdout",
     "output_type": "stream",
     "text": [
      "Note: you may need to restart the kernel to use updated packages.\n",
      "Note: you may need to restart the kernel to use updated packages.\n"
     ]
    }
   ],
   "source": [
    "%pip install --upgrade -q pip jax jaxlib\n",
    "%pip install --upgrade -q git+https://github.com/google/flax.git"
   ]
  },
  {
   "cell_type": "code",
   "execution_count": 12,
   "metadata": {},
   "outputs": [],
   "source": [
    "from typing import Any, Callable, Sequence\n",
    "\n",
    "import flax\n",
    "import jax\n",
    "from flax import linen as nn\n",
    "from jax import numpy as jnp\n",
    "from jax import random"
   ]
  },
  {
   "cell_type": "markdown",
   "metadata": {},
   "source": [
    "## 全結合層\n",
    "\n",
    "- **Implementation by Flax** : `flax.linen.Dense`\n",
    "- 「Fead Forward層」、「Prediction層」などと別の名称で呼称されることが多い\n",
    "\n",
    "### `base`\n",
    "\n",
    "- 1次元入力に対する全結合層\n",
    "- $ p[j] = \\sum^i n[i] \\times w[i, j] + b[j] $\n",
    "  - $ p $ : 出力\n",
    "  - $ n $ : 入力\n",
    "  - $ w $ : 重みパラメータ(入力次元×出力次元)\n",
    "  - $ b $ : バイアスパラメータ(出力次元)"
   ]
  },
  {
   "cell_type": "code",
   "execution_count": 13,
   "metadata": {},
   "outputs": [],
   "source": [
    "class Base(nn.Module):\n",
    "    features: int\n",
    "    bias_init: Callable = nn.initializers.zeros_init()\n",
    "    weight_init: Callable = nn.initializers.normal()\n",
    "\n",
    "    @nn.compact\n",
    "    def __call__(self, inputs):\n",
    "        x = inputs\n",
    "        weight = self.param('weight',\n",
    "                            self.weight_init,\n",
    "                            (inputs.shape[-1], self.features))\n",
    "        y = jnp.dot(x, weight)\n",
    "        bias = self.param('bias', self.bias_init, (self.features,))\n",
    "        y = y + bias\n",
    "        return y"
   ]
  },
  {
   "cell_type": "markdown",
   "metadata": {},
   "source": [
    "### `Conv1D`\n",
    "\n",
    "- ２次元ベクトルデータへの畳み込み層\n",
    "- カーネルサイズが1であるため、全結合層と同様に求めることができる\n",
    "- $ p[j] = \\sum^i n[i] \\times w[i, j] + b[j] $\n",
    "  - $ p $ : 出力\n",
    "  - $ n $ : 入力\n",
    "  - $ w $ : 重みパラメータ(入力次元×出力次元)\n",
    "  - $ b $ : バイアスパラメータ(出力次元)"
   ]
  },
  {
   "cell_type": "code",
   "execution_count": 14,
   "metadata": {},
   "outputs": [],
   "source": [
    "class Conv1D(nn.Module):\n",
    "    features: int\n",
    "    bias_init: Callable = nn.initializers.zeros_init()\n",
    "    weight_init: Callable = nn.initializers.normal()\n",
    "\n",
    "    @nn.compact\n",
    "    def __call__(self, inputs):\n",
    "        x = inputs\n",
    "        weight = self.param('weight',\n",
    "                            self.weight_init,\n",
    "                            (1, x.shape[-1], self.features))\n",
    "        batch_size = x.shape[0]\n",
    "        x_channel = x.shape[-1]\n",
    "\n",
    "        # カーネルサイズに畳み込み\n",
    "        x = jnp.reshape(x, (-1, batch_size))\n",
    "        weight = jnp.reshape(weight, (-1, x_channel))\n",
    "\n",
    "        y = jnp.dot(x, weight)\n",
    "        bias = self.param('bias', self.bias_init, (self.features,))\n",
    "        y = y + bias\n",
    "\n",
    "        # カーネルを展開\n",
    "        y = jnp.reshape(y, (batch_size, x.shape[1], self.features))\n",
    "        return y"
   ]
  },
  {
   "cell_type": "markdown",
   "metadata": {},
   "source": [
    "## Normalization層\n",
    "\n",
    "- **Implementaion by Flax** : `flax.linen.LayerNorm`\n",
    "- $ h_i = f\\left(\\frac{g_i}{\\sigma_i}\\left(a_i-\\mu_i\\right)+b_i \\right) $\n",
    "  - $ \\sigma $ : 二乗誤差の平方根\n",
    "  - $ \\mu $ : 平均値\n",
    "  - $ g $ : 重みパラメータ\n",
    "  - $ b $ : バイアスパラメータ"
   ]
  },
  {
   "cell_type": "code",
   "execution_count": 15,
   "metadata": {},
   "outputs": [],
   "source": [
    "class Normalization(nn.Module):\n",
    "    axis: int = -1\n",
    "    epsilon: float = 1e-5\n",
    "    weight_init: Callable = nn.initializers.ones_init()\n",
    "    bias_init: Callable = nn.initializers.zeros_init()\n",
    "\n",
    "    @nn.compact\n",
    "    def __call__(self, input):\n",
    "        x = input\n",
    "        # 平均値と二乗誤差\n",
    "        mean = jnp.mean(x, axis=self.axis, keepdims=True)\n",
    "        squared_error = jnp.mean(jnp.square(x-mean), axis=self.axis, keepdims=True)\n",
    "        # 二乗誤差の平方根\n",
    "        y = (x - mean) * jax.lax.rsqrt(squared_error + self.epsilon)\n",
    "        weight = self.param('weight', self.weight_init, (input.shape[-1],))\n",
    "        bias = self.param('bias', self.bias_init, (input.shape[-1]))\n",
    "        y = y * weight + bias\n",
    "        return y"
   ]
  },
  {
   "cell_type": "markdown",
   "metadata": {},
   "source": [
    "## 活性化関数\n",
    "\n",
    "#### `GELU`\n",
    "\n",
    "- **Implementation by JAX** : `jax.nn.gelu`\n",
    "\n",
    "- $ 0.5 * \\left( 1 + \\tanh\\left(\\sqrt{2/\\pi}\\left(x+0.044715 x^3\\right)\\right) \\right) $\n",
    "- 原点が0を通る\n",
    "- 負の数では0に近づく\n",
    "- 正の数では比例する\n",
    "- 滑らかな連続関数"
   ]
  },
  {
   "cell_type": "code",
   "execution_count": 16,
   "metadata": {},
   "outputs": [],
   "source": [
    "def gelu(x):\n",
    "    return 0.5 * (1 + jnp.tanh(jnp.sqrt(2/jnp.pi) * (x + 0.044715 * jnp.pow(x, 3))))"
   ]
  },
  {
   "cell_type": "markdown",
   "metadata": {},
   "source": [
    "#### `Swish`\n",
    "\n",
    "- **Implementation by JAX** : `jax.nn.swish`\n",
    "- $ x \\times \\text{sigmoid}(x) $\n",
    "- `GELU`の単純実装"
   ]
  },
  {
   "cell_type": "code",
   "execution_count": 17,
   "metadata": {},
   "outputs": [],
   "source": [
    "def swish(x):\n",
    "    return x * jax.nn.sigmoid(x)"
   ]
  },
  {
   "cell_type": "markdown",
   "metadata": {},
   "source": [
    "#### `Mish`\n",
    "\n",
    "- **Implementation by JAX** : `jax.nn.mish`\n",
    "- $ x * \\tanh(\\text{softplus}(x)) $\n",
    "- `Swish`よりも性能が良いされている"
   ]
  },
  {
   "cell_type": "code",
   "execution_count": 18,
   "metadata": {},
   "outputs": [],
   "source": [
    "def mish(x):\n",
    "    return x * jnp.tanh(jax.nn.softplus(x))"
   ]
  },
  {
   "cell_type": "markdown",
   "metadata": {},
   "source": [
    "#### `Softmax`\n",
    "\n",
    "- **Implementation by JAX** : `jax.nn.softmax`\n",
    "- $ \\exp{x_i} / \\sum_j \\exp{x_j} $\n",
    "- 全和が1になるように拡大・縮小する"
   ]
  },
  {
   "cell_type": "code",
   "execution_count": 21,
   "metadata": {},
   "outputs": [],
   "source": [
    "def softmax(x, axis=-1):\n",
    "    ex = jnp.exp(x - jnp.sum(x, axis=axis, keepdims=True))\n",
    "    return ex / jnp.sum(ex, axis=axis, keepdims=True)"
   ]
  },
  {
   "cell_type": "markdown",
   "metadata": {},
   "source": [
    "#### `LogSoftmax`\n",
    "\n",
    "- **Implementation by JAX** : `jax.nn.log_softmax`\n",
    "- $ x - \\log \\left(\\sum_j \\exp{x_j}\\right) $\n",
    "  - $ \\log \\left(\\exp{x} / \\sum{x}\\right) $\n",
    "  - $ = \\log\\left(\\exp{(x)}\\right) - \\log\\left(\\sum{\\exp(x)}\\right)$\n",
    "  - $ = x - \\log\\left(\\sum{\\exp(x)}\\right) $"
   ]
  },
  {
   "cell_type": "code",
   "execution_count": 1,
   "metadata": {},
   "outputs": [],
   "source": [
    "def log_softmax(x, axis=-1):\n",
    "    ex = jnp.exp(x)\n",
    "    return x - jnp.log(jnp.sum(ex))"
   ]
  },
  {
   "cell_type": "markdown",
   "metadata": {},
   "source": [
    "## 損失関数\n",
    "\n",
    "### Cross Entropy Loss\n",
    "\n",
    "- **Implementation by Flax** : `optax.losses.safe_softmax_cross_entropy`\n",
    "- エッジケースによる、極大値や極小値への対応が必要\n",
    "- Flaxでは損失関数、活性化関数の両方で対応可能"
   ]
  },
  {
   "cell_type": "code",
   "execution_count": 2,
   "metadata": {},
   "outputs": [],
   "source": [
    "def cross_entropy_loss(labels, logits):\n",
    "    # batch_size * tokenを一次元ベクトルに展開\n",
    "    num_vocabulary = logits.shape[-1]\n",
    "    flatten_labels = jnp.reshape(labels, (-1,))\n",
    "    flatten_labels = jnp.can_cast(flatten_labels, jnp.int32)\n",
    "    flatten_logits = jnp.reshape(logits, (-1, num_vocabulary))\n",
    "    # ラベルをone-hotベクトル化\n",
    "    one_hot_labels = jax.nn.one_hot(flatten_labels, num_vocabulary, dtype=jnp.float32)\n",
    "    # クロスエントロピーを算出\n",
    "    log_probs = log_softmax(flatten_logits)\n",
    "    # 損失を計算\n",
    "    loss = -1 * jnp.sum(log_probs * one_hot_labels, axis=(-1))\n",
    "    # 逆伝播誤差\n",
    "    loss = jnp.mean(loss)\n",
    "    return loss\n"
   ]
  },
  {
   "cell_type": "markdown",
   "metadata": {},
   "source": [
    "### Masked Cross Entropy Loss\n",
    "\n",
    "- "
   ]
  },
  {
   "cell_type": "code",
   "execution_count": null,
   "metadata": {},
   "outputs": [],
   "source": []
  }
 ],
 "metadata": {
  "kernelspec": {
   "display_name": "venv",
   "language": "python",
   "name": "python3"
  },
  "language_info": {
   "codemirror_mode": {
    "name": "ipython",
    "version": 3
   },
   "file_extension": ".py",
   "mimetype": "text/x-python",
   "name": "python",
   "nbconvert_exporter": "python",
   "pygments_lexer": "ipython3",
   "version": "3.11.9"
  }
 },
 "nbformat": 4,
 "nbformat_minor": 2
}
