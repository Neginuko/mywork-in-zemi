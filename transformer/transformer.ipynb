{
 "cells": [
  {
   "cell_type": "code",
   "execution_count": 20,
   "metadata": {},
   "outputs": [
    {
     "name": "stdout",
     "output_type": "stream",
     "text": [
      "/home/wsl2/slm/.venv/bin/python: No module named pip\n",
      "Note: you may need to restart the kernel to use updated packages.\n",
      "/home/wsl2/slm/.venv/bin/python: No module named pip\n",
      "Note: you may need to restart the kernel to use updated packages.\n"
     ]
    }
   ],
   "source": [
    "%pip install --upgrade -q pip jax jaxlib\n",
    "%pip install --upgrade -q git+https://github.com/google/flax.git"
   ]
  },
  {
   "cell_type": "code",
   "execution_count": 21,
   "metadata": {},
   "outputs": [],
   "source": [
    "from typing import Any, Callable, Sequence\n",
    "\n",
    "import flax\n",
    "import jax\n",
    "from flax import linen as nn\n",
    "from jax import numpy as jnp\n",
    "from jax import random"
   ]
  },
  {
   "cell_type": "markdown",
   "metadata": {},
   "source": [
    "## 全結合層\n",
    "\n",
    "- **Implementation by Flax** : `flax.linen.Dense`\n",
    "- 「Fead Forward層」、「Prediction層」などと別の名称で呼称されることが多い\n",
    "\n",
    "### `base`\n",
    "\n",
    "- 1次元入力に対する全結合層\n",
    "- $ p[j] = \\sum^i n[i] \\times w[i, j] + b[j] $\n",
    "  - $ p $ : 出力\n",
    "  - $ n $ : 入力\n",
    "  - $ w $ : 重みパラメータ(入力次元×出力次元)\n",
    "  - $ b $ : バイアスパラメータ(出力次元)"
   ]
  },
  {
   "cell_type": "code",
   "execution_count": 22,
   "metadata": {},
   "outputs": [],
   "source": [
    "class Base(nn.Module):\n",
    "    features: int\n",
    "    bias_init: Callable = nn.initializers.zeros_init()\n",
    "    weight_init: Callable = nn.initializers.normal(stddev=0.02)\n",
    "\n",
    "    @nn.compact\n",
    "    def __call__(self, inputs):\n",
    "        x = inputs\n",
    "        weight = self.param('weight',\n",
    "                            self.weight_init,\n",
    "                            (inputs.shape[-1], self.features))\n",
    "        y = jnp.dot(x, weight)\n",
    "        bias = self.param('bias', self.bias_init, (self.features,))\n",
    "        y = y + bias\n",
    "        return y"
   ]
  },
  {
   "cell_type": "markdown",
   "metadata": {},
   "source": [
    "### `Conv1D`\n",
    "\n",
    "- ２次元ベクトルデータへの畳み込み層\n",
    "- カーネルサイズが1であるため、全結合層と同様に求めることができる\n",
    "- $ p[j] = \\sum^i n[i] \\times w[i, j] + b[j] $\n",
    "  - $ p $ : 出力\n",
    "  - $ n $ : 入力\n",
    "  - $ w $ : 重みパラメータ(入力次元×出力次元)\n",
    "  - $ b $ : バイアスパラメータ(出力次元)"
   ]
  },
  {
   "cell_type": "code",
   "execution_count": 23,
   "metadata": {},
   "outputs": [],
   "source": [
    "class Conv1D(nn.Module):\n",
    "    features: int\n",
    "    bias_init: Callable = nn.initializers.zeros_init()\n",
    "    weight_init: Callable = nn.initializers.normal(stddev=0.02)\n",
    "\n",
    "    @nn.compact\n",
    "    def __call__(self, inputs):\n",
    "        x = inputs\n",
    "        weight = self.param('weight',\n",
    "                            self.weight_init,\n",
    "                            (1, x.shape[-1], self.features))\n",
    "        batch_size = x.shape[0]\n",
    "        x_channel = x.shape[-1]\n",
    "\n",
    "        # カーネルサイズに畳み込み\n",
    "        x = jnp.reshape(x, (-1, batch_size))\n",
    "        weight = jnp.reshape(weight, (-1, x_channel))\n",
    "\n",
    "        y = jnp.dot(x, weight)\n",
    "        bias = self.param('bias', self.bias_init, (self.features,))\n",
    "        y = y + bias\n",
    "\n",
    "        # カーネルを展開\n",
    "        y = jnp.reshape(y, (batch_size, x.shape[1], self.features))\n",
    "        return y"
   ]
  },
  {
   "cell_type": "markdown",
   "metadata": {},
   "source": [
    "## Normalization層\n",
    "\n",
    "- **Implementaion by Flax** : `flax.linen.LayerNorm`\n",
    "- $ h_i = f\\left(\\frac{g_i}{\\sigma_i}\\left(a_i-\\mu_i\\right)+b_i \\right) $\n",
    "  - $ \\sigma $ : 二乗誤差の平方根\n",
    "  - $ \\mu $ : 平均値\n",
    "  - $ g $ : 重みパラメータ\n",
    "  - $ b $ : バイアスパラメータ"
   ]
  },
  {
   "cell_type": "code",
   "execution_count": 24,
   "metadata": {},
   "outputs": [],
   "source": [
    "class Normalization(nn.Module):\n",
    "    axis: int = -1\n",
    "    epsilon: float = 1e-5\n",
    "    weight_init: Callable = nn.initializers.ones_init()\n",
    "    bias_init: Callable = nn.initializers.zeros_init()\n",
    "\n",
    "    @nn.compact\n",
    "    def __call__(self, input):\n",
    "        x = input\n",
    "        # 平均値と二乗誤差\n",
    "        mean = jnp.mean(x, axis=self.axis, keepdims=True)\n",
    "        squared_error = jnp.mean(jnp.square(x-mean), axis=self.axis, keepdims=True)\n",
    "        # 二乗誤差の平方根\n",
    "        y = (x - mean) * jax.lax.rsqrt(squared_error + self.epsilon)\n",
    "        weight = self.param('weight', self.weight_init, (input.shape[-1],))\n",
    "        bias = self.param('bias', self.bias_init, (input.shape[-1]))\n",
    "        y = y * weight + bias\n",
    "        return y"
   ]
  },
  {
   "cell_type": "markdown",
   "metadata": {},
   "source": [
    "## 活性化関数\n",
    "\n",
    "#### `GELU`\n",
    "\n",
    "- **Implementation by JAX** : `jax.nn.gelu`\n",
    "\n",
    "- $ 0.5 * \\left( 1 + \\tanh\\left(\\sqrt{2/\\pi}\\left(x+0.044715 x^3\\right)\\right) \\right) $\n",
    "- 原点が0を通る\n",
    "- 負の数では0に近づく\n",
    "- 正の数では比例する\n",
    "- 滑らかな連続関数"
   ]
  },
  {
   "cell_type": "code",
   "execution_count": 25,
   "metadata": {},
   "outputs": [],
   "source": [
    "def gelu(x):\n",
    "    return 0.5 * (1 + jnp.tanh(jnp.sqrt(2/jnp.pi) * (x + 0.044715 * jnp.pow(x, 3))))"
   ]
  },
  {
   "cell_type": "markdown",
   "metadata": {},
   "source": [
    "#### `Swish`\n",
    "\n",
    "- **Implementation by JAX** : `jax.nn.swish`\n",
    "- $ x \\times \\text{sigmoid}(x) $\n",
    "- `GELU`の単純実装"
   ]
  },
  {
   "cell_type": "code",
   "execution_count": 26,
   "metadata": {},
   "outputs": [],
   "source": [
    "def swish(x):\n",
    "    return x * jax.nn.sigmoid(x)"
   ]
  },
  {
   "cell_type": "markdown",
   "metadata": {},
   "source": [
    "#### `Mish`\n",
    "\n",
    "- **Implementation by JAX** : `jax.nn.mish`\n",
    "- $ x * \\tanh(\\text{softplus}(x)) $\n",
    "- `Swish`よりも性能が良いされている"
   ]
  },
  {
   "cell_type": "code",
   "execution_count": 27,
   "metadata": {},
   "outputs": [],
   "source": [
    "def mish(x):\n",
    "    return x * jnp.tanh(jax.nn.softplus(x))"
   ]
  },
  {
   "cell_type": "markdown",
   "metadata": {},
   "source": [
    "#### `Softmax`\n",
    "\n",
    "- **Implementation by JAX** : `jax.nn.softmax`\n",
    "- $ \\exp{x_i} / \\sum_j \\exp{x_j} $\n",
    "- 全和が1になるように拡大・縮小する"
   ]
  },
  {
   "cell_type": "code",
   "execution_count": 28,
   "metadata": {},
   "outputs": [],
   "source": [
    "def softmax(x, axis=-1):\n",
    "    ex = jnp.exp(x - jnp.sum(x, axis=axis, keepdims=True))\n",
    "    return ex / jnp.sum(ex, axis=axis, keepdims=True)"
   ]
  },
  {
   "cell_type": "markdown",
   "metadata": {},
   "source": [
    "#### `LogSoftmax`\n",
    "\n",
    "- **Implementation by JAX** : `jax.nn.log_softmax`\n",
    "- $ x - \\log \\left(\\sum_j \\exp{x_j}\\right) $\n",
    "  - $ \\log \\left(\\exp{x} / \\sum{x}\\right) $\n",
    "  - $ = \\log\\left(\\exp{(x)}\\right) - \\log\\left(\\sum{\\exp(x)}\\right)$\n",
    "  - $ = x - \\log\\left(\\sum{\\exp(x)}\\right) $"
   ]
  },
  {
   "cell_type": "code",
   "execution_count": 29,
   "metadata": {},
   "outputs": [],
   "source": [
    "def log_softmax(x, axis=-1):\n",
    "    ex = jnp.exp(x)\n",
    "    return x - jnp.log(jnp.sum(ex))"
   ]
  },
  {
   "cell_type": "markdown",
   "metadata": {},
   "source": [
    "## 損失関数\n",
    "\n",
    "### Cross Entropy Loss\n",
    "\n",
    "- **Implementation by Flax** : `optax.losses.safe_softmax_cross_entropy`\n",
    "- エッジケースによる、極大値や極小値への対応が必要\n",
    "- Flaxでは損失関数、活性化関数の両方で対応可能"
   ]
  },
  {
   "cell_type": "code",
   "execution_count": 30,
   "metadata": {},
   "outputs": [],
   "source": [
    "def cross_entropy_loss(labels, logits):\n",
    "    # batch_size * tokenを一次元ベクトルに展開\n",
    "    num_vocabulary = logits.shape[-1]\n",
    "    flatten_labels = jnp.reshape(labels, (-1,))\n",
    "    flatten_labels = jnp.asarray(flatten_labels, dtype=jnp.int32)\n",
    "    flatten_logits = jnp.reshape(logits, (-1, num_vocabulary))\n",
    "    # ラベルをone-hotベクトル化\n",
    "    one_hot_labels = jax.nn.one_hot(flatten_labels, num_vocabulary, dtype=jnp.float32)\n",
    "    # クロスエントロピーを算出\n",
    "    log_probs = log_softmax(flatten_logits)\n",
    "    # 損失を計算\n",
    "    loss = -1 * jnp.sum(log_probs * one_hot_labels, axis=(-1))\n",
    "    # 逆伝播誤差\n",
    "    loss = jnp.mean(loss)\n",
    "    return loss\n"
   ]
  },
  {
   "cell_type": "markdown",
   "metadata": {},
   "source": [
    "### Masked Cross Entropy Loss\n",
    "\n",
    "- **Implementation by Flax** : `None`\n",
    "- 出力の特定の位置を無視できるように動作するクロスエントロピー\n",
    "- 正解ラベルとして`-1`の場合には無視する"
   ]
  },
  {
   "cell_type": "code",
   "execution_count": 31,
   "metadata": {},
   "outputs": [],
   "source": [
    "def masked_cross_entropy_loss(labels, logits):\n",
    "    # batch_size * tokenを一次元ベクトルに展開\n",
    "    num_vocabulary = logits.shape[-1]\n",
    "    flatten_labels = jnp.reshape(labels, (-1,))\n",
    "    flatten_logits = jnp.reshape(logits, (-1, num_vocabulary))\n",
    "    # マスクの作成\n",
    "    mask = flatten_labels + 1\n",
    "    mask = jnp.asarray(jnp.asarray(mask, dtype=jnp.bool), dtype=jnp.int32)\n",
    "    # マスクを適応\n",
    "    flatten_labels = jnp.asarray(flatten_labels + (1 - mask), jnp.int32)\n",
    "    # ラベルをone-hotベクトル化\n",
    "    one_hot_labels = jax.nn.one_hot(flatten_labels, num_vocabulary, dtype=jnp.float32)\n",
    "    # クロスエントロピーを算出\n",
    "    log_probs = log_softmax(flatten_logits)\n",
    "    # 損失を計算\n",
    "    loss = -1 * jnp.sum(log_probs * one_hot_labels, axis=(-1))\n",
    "    #マスクを損失に適応\n",
    "    mask = jnp.asarray(mask, jnp.float32)\n",
    "    loss = loss * mask\n",
    "    # 逆伝播誤差\n",
    "    loss = jnp.mean(loss) / (jnp.sum(mask) + 1e-5)\n",
    "    return loss\n"
   ]
  },
  {
   "cell_type": "markdown",
   "metadata": {},
   "source": [
    "## Attention層\n",
    "\n",
    "### Self-Attention\n",
    "\n",
    "- **Implementation by Flax** : `flax.linen.SelfAttention`\n",
    "- `tanh`層で挟んだ2層のFNN\n",
    "- `Softmax`で活性化したのちに、入力ベクトルと要素を掛け合わせる"
   ]
  },
  {
   "cell_type": "code",
   "execution_count": 32,
   "metadata": {},
   "outputs": [],
   "source": [
    "class SelfAttention(nn.Module):\n",
    "    @nn.compact\n",
    "    def __call__(self, input):\n",
    "        x = input\n",
    "        nx = x.shape[-1]\n",
    "        p = Conv1D(nx, name=self.name+\"_p1\")(x)\n",
    "        p = jnp.tanh(p)\n",
    "        p = Conv1D(nx, name=self.name+\"_p2\")(p)\n",
    "        p = softmax(p)\n",
    "        return x * p"
   ]
  },
  {
   "cell_type": "markdown",
   "metadata": {},
   "source": [
    "### KeyValue-Self-Attention\n",
    "\n",
    "- **Implementation by Flax** : `flax.linen.SelfAttention`\n",
    "- 単一ヘッドのキーバリューストアによるSelf-Attention"
   ]
  },
  {
   "cell_type": "code",
   "execution_count": 33,
   "metadata": {},
   "outputs": [],
   "source": [
    "class KeyValueSelfAttention(nn.Module):\n",
    "    qkv_features: int\n",
    "    out_features: int\n",
    "\n",
    "    @nn.compact\n",
    "    def __call__(self, input, scores_weight=None):\n",
    "        x = input\n",
    "        # Query, Key, Valueに分割して投射\n",
    "        query = Conv1D(self.qkv_features, name=self.name+\"_query\")(x)\n",
    "        key = Conv1D(self.qkv_features, name=self.name+\"_key\")(x)\n",
    "        value = Conv1D(self.qkv_features, name=self.name+\"_value\")(x)\n",
    "        # シーケンス、特徴量方向の次元の積を算出\n",
    "        scores = query @ key.T\n",
    "        scores = scores * 1 / jnp.sqrt(jnp.asarray(query.shape[-1], jnp.float32))\n",
    "        if scores_weight is not None:\n",
    "            scores += scores_weight\n",
    "        # Self-Attention\n",
    "        prob = softmax(scores)\n",
    "        context = prob @ value\n",
    "        context = Conv1D(self.out_features, name=self.name+\"_proj\")(context)\n",
    "        return context\n",
    "\n"
   ]
  },
  {
   "cell_type": "markdown",
   "metadata": {},
   "source": [
    "### Multi-head-Attentition\n",
    "\n",
    "- **Implementation by Flax** : `flax.linen.MultiHeadAttention`\n",
    "- 複数ヘッドによるAttention"
   ]
  },
  {
   "cell_type": "code",
   "execution_count": 34,
   "metadata": {},
   "outputs": [],
   "source": [
    "class MultiHeadAttention(nn.Module):\n",
    "    qkv_features: int\n",
    "    out_features: int\n",
    "    num_heads: int\n",
    "\n",
    "    @nn.compact\n",
    "    def __call__(self, input, scores_weight=None):\n",
    "        x = input\n",
    "        batch_size = -1 if x.shape[0] is None else x.shape[0]\n",
    "        num_tokens = x.shape[2]\n",
    "        num_channels = x.shape[1] * x.shape[3]\n",
    "        # Query, Key, Valueに分割して投射\n",
    "        query = Conv1D(self.qkv_features, name=self.name+\"_query\")(x)\n",
    "        key = Conv1D(self.qkv_features, name=self.name+\"_key\")(x)\n",
    "        value = Conv1D(self.qkv_features, name=self.name+\"_value\")(x)\n",
    "        query = jnp.reshape(query, (batch_size, x.shape[1], self.num_heads, x.shape[-1] // self.num_heads))\n",
    "        key = jnp.reshape(key, (batch_size, x.shape[1], self.num_heads, x.shape[-1] // self.num_heads))\n",
    "        value = jnp.reshape(value, (batch_size, x.shape[1], self.num_heads, x.shape[-1] // self.num_heads))\n",
    "        # [batch, head, sequence, features] になるように入れ替え\n",
    "        query = jnp.transpose(query, (0, 2, 1, 3))\n",
    "        key = jnp.transpose(key, (0, 2, 1, 3))\n",
    "        value = jnp.transpose(value, (0, 2, 1, 3))\n",
    "        # シーケンス、特徴量方向の次元の積を算出\n",
    "        scores = query @ key.T\n",
    "        scores = scores * 1 / jnp.sqrt(jnp.asarray(num_channels, jnp.float32))\n",
    "        if scores_weight is not None:\n",
    "            scores += scores_weight\n",
    "        # Self-Attention\n",
    "        probs = softmax(scores)\n",
    "        context = probs @ value\n",
    "        # [batch, sequence, heads, features] に戻す\n",
    "        context = jnp.transpose(context, (0, 2, 1, 3))\n",
    "        # [batch, sequence, features] に戻す\n",
    "        context = jnp.reshape(context, (batch_size, num_tokens, num_channels))\n",
    "        return Conv1D(self.out_features, name=self.name+\"_proj\")\n",
    "\n"
   ]
  },
  {
   "cell_type": "markdown",
   "metadata": {},
   "source": [
    "## Embedded層\n",
    "\n",
    "- **Implementation by Flax** : `None`\n",
    "- 単語ベクトルを学習可能なパラメータとして保持する"
   ]
  },
  {
   "cell_type": "code",
   "execution_count": 35,
   "metadata": {},
   "outputs": [],
   "source": [
    "class PositionEmbedding(nn.Module):\n",
    "    num_context: int\n",
    "    num_hidden: int\n",
    "    weight_init: Callable = nn.initializers.normal()\n",
    "\n",
    "    @nn.compact\n",
    "    def __call__(self, input):\n",
    "        x = input\n",
    "        weights = self.param('weight', self.weight_init, (self.num_context, self.num_hidden))\n",
    "        return x + weights"
   ]
  },
  {
   "cell_type": "code",
   "execution_count": 36,
   "metadata": {},
   "outputs": [],
   "source": [
    "class VocabularyEmbedding(nn.Module):\n",
    "    num_vocabulary: int\n",
    "    weight_init: Callable = nn.initializers.normal()\n",
    "\n",
    "    @nn.compact\n",
    "    def __call__(self, input):\n",
    "        x = input\n",
    "        weights = self.param('weight', self.weight_init, (self.num_vocabulary,))\n",
    "        return x + weights"
   ]
  },
  {
   "cell_type": "markdown",
   "metadata": {},
   "source": [
    "### Embed層\n",
    "\n",
    "- **Implementation by Flax** : `None`"
   ]
  },
  {
   "cell_type": "code",
   "execution_count": 37,
   "metadata": {},
   "outputs": [],
   "source": [
    "class Embed(nn.Module):\n",
    "    num_vocab: int\n",
    "    num_hidden: int\n",
    "    weight_init: Callable = nn.initializers.normal(stddev=0.02)\n",
    "\n",
    "    @nn.compact\n",
    "    def __call__(self, input, num_context):\n",
    "        x = input\n",
    "        weights = self.param('weight', self.weight_init, (self.num_vocab, self.num_hidden))\n",
    "        if num_context > 0:\n",
    "            x_flat = jnp.reshape(x, (-1, self.num_hidden))\n",
    "            logits = x_flat @ weights.T\n",
    "            return jnp.reshape(logits, (-1, num_context, self.num_vocab))\n",
    "        else:\n",
    "            num_context = x.shape[-1]\n",
    "            x_flat = jnp.reshape(x, (-1,))\n",
    "            one_hot_ids = jax.nn.one_hot(x_flat, self.num_vocab)\n",
    "            vector = one_hot_ids @ weights\n",
    "            return jnp.reshape(vector, (-1, num_context, self.num_hidden))"
   ]
  },
  {
   "cell_type": "code",
   "execution_count": 51,
   "metadata": {},
   "outputs": [
    {
     "name": "stdout",
     "output_type": "stream",
     "text": [
      "(1, 3, 200)\n",
      "(1, 5, 2000)\n",
      "(1, 5)\n",
      "[[347 332 955]]\n",
      "8.714087\n",
      "()\n"
     ]
    }
   ],
   "source": [
    "e = Embed(num_vocab=2000, num_hidden=200, name=\"Embeddings\")\n",
    "\n",
    "key1, key2 = random.split(random.key(0), 2)\n",
    "x = jnp.array([[100, 101, 102]])\n",
    "\n",
    "params = e.init(key1, x, 0)\n",
    "y = e.apply(params, x, 0)\n",
    "print(y.shape)\n",
    "\n",
    "word_vector = random.uniform(key2, (1, 5, 200))\n",
    "params = e.init(key1, word_vector, 5)\n",
    "y = e.apply(params, word_vector, 5)\n",
    "print(y.shape)\n",
    "\n",
    "print(jnp.argmax(y, axis=-1).shape)\n",
    "\n",
    "key, key3, key4 = random.split(key1, 3)\n",
    "params = e.init(key3, x, 0)\n",
    "y = e.apply(params, x, 0)\n",
    "params = e.init(key4, y, 3)\n",
    "y = e.apply(params, y, 3)\n",
    "print(jnp.argmax(y, axis=-1))\n",
    "\n",
    "key, key5, key6 = random.split(key, 3)\n",
    "logits_out = random.uniform(key5, (1, 3, 200))\n",
    "params = e.init(key6, logits_out, 3)\n",
    "y = e.apply(params, logits_out, 3)\n",
    "print(cross_entropy_loss(x, y))\n",
    "print(cross_entropy_loss(x, y).shape)"
   ]
  },
  {
   "cell_type": "code",
   "execution_count": null,
   "metadata": {},
   "outputs": [],
   "source": []
  }
 ],
 "metadata": {
  "kernelspec": {
   "display_name": "venv",
   "language": "python",
   "name": "python3"
  },
  "language_info": {
   "codemirror_mode": {
    "name": "ipython",
    "version": 3
   },
   "file_extension": ".py",
   "mimetype": "text/x-python",
   "name": "python",
   "nbconvert_exporter": "python",
   "pygments_lexer": "ipython3",
   "version": "3.11.9"
  }
 },
 "nbformat": 4,
 "nbformat_minor": 2
}
